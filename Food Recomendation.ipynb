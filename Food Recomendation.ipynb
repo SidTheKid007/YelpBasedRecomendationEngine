{
 "cells": [
  {
   "cell_type": "code",
   "execution_count": 1,
   "metadata": {},
   "outputs": [
    {
     "name": "stdout",
     "output_type": "stream",
     "text": [
      "500\n"
     ]
    }
   ],
   "source": [
    "from yelpapi import YelpAPI\n",
    "import pandas as pd\n",
    "\n",
    "yelp_api = YelpAPI('noDCJXxVJaiNCZ9DfOtumLVNmLCrxiuIasPFYGYGw_TxjNChDuCHz0zOVH8mGi58KVQ_pfgmYEYHD4MTdV44c_INWhQDcTcweUfQ8qPm8LAnxnQ2ATFEPe36MfWFW3Yx')\n",
    "response = []\n",
    "for x in range (10):\n",
    "    new_response = yelp_api.search_query(term = 'food', location = 'Arcadia, CA', limit = 50, offset = (50*x))\n",
    "    response.extend(new_response['businesses'])\n",
    "print(len(response))\n",
    "\n",
    "#alias, review_count, rating, price"
   ]
  },
  {
   "cell_type": "code",
   "execution_count": 14,
   "metadata": {},
   "outputs": [],
   "source": [
    "from gensim.models import Word2Vec\n",
    "\n",
    "restraunts = []\n",
    "restraunts2 = []\n",
    "resnames = []\n",
    "combined = []\n",
    "for x in response:\n",
    "    if \"alias\" in x:\n",
    "        alia = (x['alias'])\n",
    "        alias = Word2Vec(alia, size=1, min_count=1)\n",
    "    else:\n",
    "        continue\n",
    "    if \"review_count\" in x:\n",
    "        review_count = (x['review_count'])/5000\n",
    "    else:\n",
    "        review_count = 0\n",
    "    if \"rating\" in x:\n",
    "        rating = (x['rating'])/5\n",
    "    else:\n",
    "        rating = 0\n",
    "    if \"price\" in x:\n",
    "        price = len(x['price'])/4\n",
    "    else:\n",
    "        price = 0\n",
    "    if \"categories\" in x:\n",
    "        categories = ''\n",
    "        for y in x['categories']:\n",
    "            categories += y['alias']\n",
    "        category = Word2Vec(categories, size=1, min_count=1)\n",
    "    else:\n",
    "        category = None\n",
    "        categories = None\n",
    "    restraunts.append({\n",
    "        str(alias),\n",
    "        str(review_count),\n",
    "        str(rating),\n",
    "        str(price),\n",
    "        str(category)\n",
    "    })\n",
    "    restraunts2.append({\n",
    "        str(alia),\n",
    "        str(review_count),\n",
    "        str(rating),\n",
    "        str(price),\n",
    "        str(categories)\n",
    "    })\n",
    "    resnames.append({\n",
    "        str(alia)\n",
    "    })\n",
    "    combined.append({\n",
    "        str(alia)+str(review_count)+str(rating)+str(price)+str(categories)\n",
    "    })"
   ]
  },
  {
   "cell_type": "code",
   "execution_count": 15,
   "metadata": {},
   "outputs": [
    {
     "name": "stdout",
     "output_type": "stream",
     "text": [
      "500\n",
      "500\n"
     ]
    }
   ],
   "source": [
    "print(len(restraunts))\n",
    "print(len(restraunts2))"
   ]
  },
  {
   "cell_type": "code",
   "execution_count": 16,
   "metadata": {},
   "outputs": [],
   "source": [
    "model1 = Word2Vec(restraunts, size=1, min_count = 1)\n",
    "model2 = Word2Vec(restraunts2, size=1, min_count = 1)\n",
    "model3 = Word2Vec(combined, size=1, min_count = 1)"
   ]
  },
  {
   "cell_type": "code",
   "execution_count": 18,
   "metadata": {},
   "outputs": [
    {
     "name": "stdout",
     "output_type": "stream",
     "text": [
      "500\n"
     ]
    },
    {
     "name": "stderr",
     "output_type": "stream",
     "text": [
      "/anaconda3/lib/python3.6/site-packages/ipykernel_launcher.py:1: DeprecationWarning: Call to deprecated `__getitem__` (Method will be removed in 4.0.0, use self.wv.__getitem__() instead).\n",
      "  \"\"\"Entry point for launching an IPython kernel.\n",
      "/anaconda3/lib/python3.6/site-packages/ipykernel_launcher.py:2: DeprecationWarning: Call to deprecated `__getitem__` (Method will be removed in 4.0.0, use self.wv.__getitem__() instead).\n",
      "  \n",
      "/anaconda3/lib/python3.6/site-packages/ipykernel_launcher.py:3: DeprecationWarning: Call to deprecated `__getitem__` (Method will be removed in 4.0.0, use self.wv.__getitem__() instead).\n",
      "  This is separate from the ipykernel package so we can avoid doing imports until\n"
     ]
    }
   ],
   "source": [
    "data_sample1 = model1[model1.wv.vocab]\n",
    "data_sample2 = model2[model2.wv.vocab]\n",
    "data_sample3 = model3[model3.wv.vocab]\n",
    "\n",
    "print(len(data_sample3))"
   ]
  },
  {
   "cell_type": "code",
   "execution_count": 19,
   "metadata": {},
   "outputs": [
    {
     "name": "stderr",
     "output_type": "stream",
     "text": [
      "/anaconda3/lib/python3.6/site-packages/ipykernel_launcher.py:15: DeprecationWarning: Call to deprecated `__getitem__` (Method will be removed in 4.0.0, use self.wv.__getitem__() instead).\n",
      "  from ipykernel import kernelapp as app\n"
     ]
    }
   ],
   "source": [
    "import numpy as np\n",
    "import pandas as pd\n",
    "import matplotlib.pyplot as plt\n",
    "from scipy import stats\n",
    "from gensim.models import Word2Vec\n",
    "from sklearn.cluster import KMeans\n",
    "from sklearn.metrics import accuracy_score\n",
    "from sklearn.cluster import AgglomerativeClustering\n",
    "from sklearn.cluster import DBSCAN\n",
    "from sklearn.manifold import TSNE\n",
    "from sklearn.decomposition import PCA\n",
    "from mpl_toolkits.mplot3d import Axes3D\n",
    "\n",
    "data_sampley = Word2Vec(combined, min_count=1)\n",
    "data_sample = data_sampley[data_sampley.wv.vocab]\n",
    "\n",
    "data_features = data_sample[:, 1:]\n",
    "data_labels = data_sample[:, 0]\n",
    "subSpace = PCA().fit_transform(data_features)"
   ]
  },
  {
   "cell_type": "code",
   "execution_count": 20,
   "metadata": {},
   "outputs": [],
   "source": [
    "def plot_embedding(X, y, title=None):\n",
    "    x_min = np.min(X, 0)\n",
    "    x_max = np.max(X, 0)\n",
    "    X = (X-x_min)/(x_max-x_min)\n",
    "    \n",
    "    plt.figure()\n",
    "    plt.scatter(X[:,0], X[:,1], color=plt.cm.Set1(y/10.))\n",
    "    \n",
    "    plt.xticks([])\n",
    "    plt.yticks([])\n",
    "    if title is not None:\n",
    "        plt.title(title)\n",
    "    plt.show()"
   ]
  },
  {
   "cell_type": "code",
   "execution_count": 21,
   "metadata": {},
   "outputs": [],
   "source": [
    "def plot_embedding3d(X, y, title=None):\n",
    "    x_min = np.min(X, 0)\n",
    "    x_max = np.max(X, 0)\n",
    "    X = (X-x_min)/(x_max-x_min)\n",
    "    \n",
    "    plt.figure()\n",
    "    \n",
    "    ax = Axes3D(plt.figure(), rect=[0, 0, .95, 1], elev=48, azim=134)\n",
    "    ax.scatter(X[:,0], X[:,1], color=plt.cm.Set1(y/10.))\n",
    "    \n",
    "    ax.w_xaxis.set_ticklabels([])\n",
    "    ax.w_yaxis.set_ticklabels([])\n",
    "    ax.w_zaxis.set_ticklabels([])\n",
    "    if title is not None:\n",
    "        plt.title(title)\n",
    "    plt.show()"
   ]
  },
  {
   "cell_type": "code",
   "execution_count": 22,
   "metadata": {},
   "outputs": [],
   "source": [
    "def mapLabels(clust, trainlabel, numclust):\n",
    "    labels = np.zeros_like(clust)\n",
    "    for i in range(numclust):\n",
    "        mask = (clust == i)\n",
    "        labels[mask] = stats.mode(trainlabel[mask])[0]\n",
    "    return labels"
   ]
  },
  {
   "cell_type": "code",
   "execution_count": 23,
   "metadata": {},
   "outputs": [
    {
     "name": "stdout",
     "output_type": "stream",
     "text": [
      "Shape of cluster centers: (10, 99)\n",
      "Shape of labels created by clusters: (500,)\n"
     ]
    },
    {
     "data": {
      "image/png": "[encoded data removed]",
      "text/plain": [
       "<Figure size 432x288 with 1 Axes>"
      ]
     },
     "metadata": {},
     "output_type": "display_data"
    }
   ],
   "source": [
    "\"\"\" Fit into kmeans clustering method \"\"\"\n",
    "kmeans = KMeans(n_clusters=10).fit(data_features)\n",
    "print('Shape of cluster centers:', kmeans.cluster_centers_.shape)\n",
    "print('Shape of labels created by clusters:', kmeans.labels_.shape)\n",
    "\n",
    "plot_embedding(subSpace, kmeans.labels_, 'K-Means PCA projection')\n",
    "labels = mapLabels(kmeans.labels_, data_labels, 10)"
   ]
  },
  {
   "cell_type": "code",
   "execution_count": 24,
   "metadata": {},
   "outputs": [
    {
     "name": "stdout",
     "output_type": "stream",
     "text": [
      "500\n"
     ]
    }
   ],
   "source": [
    "datalist = data_sample.tolist();\n",
    "print(len(datalist))"
   ]
  },
  {
   "cell_type": "code",
   "execution_count": 26,
   "metadata": {},
   "outputs": [],
   "source": [
    "from random import randint\n",
    "\n",
    "user_ratings = [ ( randint(1, 5), k, randint(1, 10) ) for k in range(500) ]\n",
    "ur_names = ['user_id','food_id','rating']\n",
    "ratings = pd.DataFrame.from_records(user_ratings,columns=ur_names)\n",
    "user_profiles = [ ( k, randint(1, 2), randint(18, 22) ) for k in range(1,6) ]\n",
    "up_names = ['user_id','sex','age']\n",
    "users = pd.DataFrame.from_records(user_profiles,columns=up_names)\n",
    "articles6 = [ ( k, resnames[k], datalist[k][0] ) for k in range(500) ]\n",
    "food_names = ['food_id','food_name','food_data']\n",
    "items = pd.DataFrame.from_records(articles6,columns=food_names)"
   ]
  },
  {
   "cell_type": "code",
   "execution_count": 28,
   "metadata": {},
   "outputs": [],
   "source": [
    "n_users = 5\n",
    "n_items = 500\n",
    "data_matrix = np.zeros((n_users, n_items))\n",
    "for line in ratings.itertuples():\n",
    "    data_matrix[line[1]-1,line[2]-1] = line[3]"
   ]
  },
  {
   "cell_type": "code",
   "execution_count": 29,
   "metadata": {},
   "outputs": [],
   "source": [
    "from sklearn.metrics.pairwise import pairwise_distances \n",
    "user_similarity = pairwise_distances(data_matrix, metric='cosine')\n",
    "item_similarity = pairwise_distances(data_matrix.T, metric='cosine')"
   ]
  },
  {
   "cell_type": "code",
   "execution_count": 30,
   "metadata": {},
   "outputs": [],
   "source": [
    "def predict(ratings, similarity, type='user'):\n",
    "    if type == 'user':\n",
    "        mean_user_rating = ratings.mean(axis=1)\n",
    "        ratings_diff = (ratings - mean_user_rating[:, np.newaxis])\n",
    "        pred = mean_user_rating[:, np.newaxis] + similarity.dot(ratings_diff) / np.array([np.abs(similarity).sum(axis=1)]).T\n",
    "    elif type == 'item':\n",
    "        pred = ratings.dot(similarity) / np.array([np.abs(similarity).sum(axis=1)])\n",
    "    return pred"
   ]
  },
  {
   "cell_type": "code",
   "execution_count": 31,
   "metadata": {},
   "outputs": [],
   "source": [
    "user_prediction = predict(data_matrix, user_similarity, type='user')\n",
    "item_prediction = predict(data_matrix, item_similarity, type='item')"
   ]
  },
  {
   "cell_type": "code",
   "execution_count": 33,
   "metadata": {},
   "outputs": [
    {
     "name": "stdout",
     "output_type": "stream",
     "text": [
      "User 2 is a 19 year old male and has a 48.324999999999996 percent chance of liking {'the-dive-skc-temple-city'} according to model 1\n",
      "User 2 is a 19 year old male and has a 53.81679389312977 percent chance of liking {'the-dive-skc-temple-city'} according to model 2\n"
     ]
    }
   ],
   "source": [
    "user_num = 2\n",
    "food_num = 70\n",
    "gender = 'male'\n",
    "if (user_profiles[user_num - 1][1] == 1):\n",
    "    gender = 'male'\n",
    "else:\n",
    "    gender = 'female'\n",
    "print('User ' + str(user_num) + \" is a \" + str(user_profiles[user_num - 1][2]) + \" year old \" + gender + \" and has a \" + str(user_prediction[user_num-1][food_num] * 50) + ' percent chance of liking ' + str(resnames[food_num]) + ' according to model 1')\n",
    "print('User ' + str(user_num) + \" is a \" + str(user_profiles[user_num - 1][2]) + \" year old \" + gender + \" and has a \" + str(item_prediction[user_num-1][food_num] * 50) + ' percent chance of liking ' + str(resnames[food_num]) + ' according to model 2')"
   ]
  },
  {
   "cell_type": "code",
   "execution_count": 40,
   "metadata": {},
   "outputs": [
    {
     "name": "stdout",
     "output_type": "stream",
     "text": [
      "User 3 is a 22 year old female and has a 79.395 percent chance of liking {'dings-garden-arcadia'} according to model 1\n",
      "User 3 is a 22 year old female and has a 44.96221662468514 percent chance of liking {'coffee-jpg-sierra-madre'} according to model 2\n"
     ]
    }
   ],
   "source": [
    "user_num = 3\n",
    "movie_bottom = 31\n",
    "movie_top = 60\n",
    "maxival = 0\n",
    "maxindex = 0\n",
    "maxival2 = 0\n",
    "maxindex2 = 0\n",
    "\n",
    "for movie_num in range (movie_bottom, movie_top+1):\n",
    "    if (user_prediction[user_num-1][movie_num] > maxival and user_prediction[user_num-1][movie_num]%1 != 0):\n",
    "        maxival = user_prediction[user_num-1][movie_num]\n",
    "        maxindex = movie_num\n",
    "        \n",
    "for movie_num in range (movie_bottom, movie_top+1):\n",
    "    if (item_prediction[user_num-1][movie_num] > maxival2 and item_prediction[user_num-1][movie_num]%1 != 0):\n",
    "        maxival2 = user_prediction[user_num-1][movie_num]\n",
    "        maxindex2 = movie_num\n",
    "\n",
    "movieindex = maxindex\n",
    "movieindex2 = maxindex2\n",
    "gender = 'male'\n",
    "if (user_profiles[user_num - 1][1] == 1):\n",
    "    gender = 'male'\n",
    "else:\n",
    "    gender = 'female'\n",
    "print('User ' + str(user_num) + \" is a \" + str(user_profiles[user_num - 1][2]) + \" year old \" + gender + \" and has a \" + str(user_prediction[user_num-1][movieindex] * 30) + ' percent chance of liking ' + str(resnames[movieindex]) + ' according to model 1')\n",
    "print('User ' + str(user_num) + \" is a \" + str(user_profiles[user_num - 1][2]) + \" year old \" + gender + \" and has a \" + str(item_prediction[user_num-1][movieindex2] * 30) + ' percent chance of liking ' + str(resnames[movieindex2]) + ' according to model 2')"
   ]
  },
  {
   "cell_type": "code",
   "execution_count": null,
   "metadata": {},
   "outputs": [],
   "source": []
  }
 ],
 "metadata": {
  "kernelspec": {
   "display_name": "Python 3",
   "language": "python",
   "name": "python3"
  },
  "language_info": {
   "codemirror_mode": {
    "name": "ipython",
    "version": 3
   },
   "file_extension": ".py",
   "mimetype": "text/x-python",
   "name": "python",
   "nbconvert_exporter": "python",
   "pygments_lexer": "ipython3",
   "version": "3.6.5"
  }
 },
 "nbformat": 4,
 "nbformat_minor": 2
}
